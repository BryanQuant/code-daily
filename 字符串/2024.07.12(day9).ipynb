{
 "cells": [
  {
   "cell_type": "markdown",
   "metadata": {},
   "source": [
    " 151.翻转字符串里的单词 \n",
    "\n",
    "建议：这道题目基本把上日做过的字符串操作都覆盖了。\n",
    "\n",
    "给定一个字符串，逐个翻转字符串中的每个单词。\n",
    "\n",
    "示例 1：\n",
    "输入: \"the sky is blue\"\n",
    "输出: \"blue is sky the\"\n",
    "\n",
    "示例 2：\n",
    "输入: \"  hello world!  \"\n",
    "输出: \"world! hello\"\n",
    "解释: 输入字符串可以在前面或者后面包含多余的空格，但是反转后的字符不能包括。\n",
    "\n",
    "示例 3：\n",
    "输入: \"a good   example\"\n",
    "输出: \"example good a\"\n",
    "解释: 如果两个单词间有多余的空格，将反转后单词间的空格减少到只含一个。\n",
    "\n",
    "\n",
    "思路：用split删除直接对里面所有的单词变成list，同时也去除了空格。然后再使用双指针法去进行单词的对掉。\n",
    "\n",
    "题目链接/文章讲解/视频讲解：https://programmercarl.com/0151.%E7%BF%BB%E8%BD%AC%E5%AD%97%E7%AC%A6%E4%B8%B2%E9%87%8C%E7%9A%84%E5%8D%95%E8%AF%8D.html  \n"
   ]
  },
  {
   "cell_type": "code",
   "execution_count": null,
   "metadata": {},
   "outputs": [],
   "source": [
    "class Solution(object):\n",
    "    def reverseWords(self, s):\n",
    "        \"\"\"\n",
    "        :type s: str\n",
    "        :rtype: str\n",
    "        \"\"\"\n",
    "        s = s.split()\n",
    "        left=0\n",
    "        right=len(s)-1\n",
    "        while left<right:\n",
    "            s[left],s[right] = s[right],s[left]\n",
    "            left=left+1\n",
    "            right=right-1\n",
    "        return ' '.join(s)"
   ]
  },
  {
   "cell_type": "markdown",
   "metadata": {},
   "source": [
    "卡码网：55.右旋转字符串 \n",
    "\n",
    "字符串的右旋转操作是把字符串尾部的若干个字符转移到字符串的前面。给定一个字符串 s 和一个正整数 k，请编写一个函数，将字符串中的后面 k 个字符移到字符串的前面，实现字符串的右旋转操作。\n",
    "\n",
    "例如，对于输入字符串 \"abcdefg\" 和整数 2，函数应该将其转换为 \"fgabcde\"。\n",
    "\n",
    "输入：输入共包含两行，第一行为一个正整数 k，代表右旋转的位数。第二行为字符串 s，代表需要旋转的字符串。\n",
    "\n",
    "输出：输出共一行，为进行了右旋转操作后的字符串。\n",
    "\n",
    "思路：由于python可以直接截取，这里直接通过获得len（s）-k，获得需要调换的长度，然后让s=s[len(s)-k:] + s[:len(s)-k]便可以直接掉换。\n",
    "\n",
    "题目链接/文章讲解：\n",
    "https://programmercarl.com/kama55.%E5%8F%B3%E6%97%8B%E5%AD%97%E7%AC%A6%E4%B8%B2.html\n"
   ]
  },
  {
   "cell_type": "code",
   "execution_count": null,
   "metadata": {},
   "outputs": [],
   "source": [
    "#获取输入的数字k和字符串\n",
    "k = int(input())\n",
    "s = input()\n",
    "\n",
    "#通过切片反转第一段和第二段字符串\n",
    "#注意：python中字符串是不可变的，所以也需要额外空间\n",
    "s = s[len(s)-k:] + s[:len(s)-k]\n",
    "print(s)"
   ]
  }
 ],
 "metadata": {
  "language_info": {
   "name": "python"
  }
 },
 "nbformat": 4,
 "nbformat_minor": 2
}
