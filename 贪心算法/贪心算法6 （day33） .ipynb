{
 "cells": [
  {
   "cell_type": "markdown",
   "metadata": {},
   "source": [
    " 518. 零钱兑换 II  \n",
    "\n",
    "视频讲解：https://www.bilibili.com/video/BV1KM411k75j\n",
    "\n",
    "https://programmercarl.com/0518.%E9%9B%B6%E9%92%B1%E5%85%91%E6%8D%A2II.html  \n"
   ]
  },
  {
   "cell_type": "code",
   "execution_count": null,
   "metadata": {},
   "outputs": [],
   "source": [
    "class Solution(object):\n",
    "    def change(self, amount, coins):\n",
    "        \"\"\"\n",
    "        :type amount: int\n",
    "        :type coins: List[int]\n",
    "        :rtype: int\n",
    "        \"\"\"\n",
    "        dp=[0]*(amount+1)\n",
    "        dp[0]=1\n",
    "        for i in range (len(coins)):\n",
    "            for j in range (coins[i],amount+1):\n",
    "                dp[j]+=dp[j-coins[i]]\n",
    "        \n",
    "        return dp[amount]"
   ]
  },
  {
   "cell_type": "markdown",
   "metadata": {},
   "source": [
    " 377. 组合总和 Ⅳ  \n",
    "\n",
    "视频讲解：https://www.bilibili.com/video/BV1V14y1n7B6\n",
    "\n",
    "https://programmercarl.com/0377.%E7%BB%84%E5%90%88%E6%80%BB%E5%92%8C%E2%85%A3.html"
   ]
  },
  {
   "cell_type": "code",
   "execution_count": null,
   "metadata": {},
   "outputs": [],
   "source": [
    "class Solution(object):\n",
    "    def combinationSum4(self, nums, target):\n",
    "        \"\"\"\n",
    "        :type nums: List[int]\n",
    "        :type target: int\n",
    "        :rtype: int\n",
    "        \"\"\"\n",
    "        dp=[0]*(target+1)\n",
    "        dp[0]=1\n",
    "        for i in range (target+1):\n",
    "            for j in range (len(nums)):\n",
    "                if i-nums[j]>=0:\n",
    "                    dp[i]+=dp[i-nums[j]]\n",
    "\n",
    "        return dp[target]"
   ]
  }
 ],
 "metadata": {
  "language_info": {
   "name": "python"
  }
 },
 "nbformat": 4,
 "nbformat_minor": 2
}
