{
 "cells": [
  {
   "cell_type": "markdown",
   "metadata": {},
   "source": [
    "122.买卖股票的最佳时机II  \n",
    "\n",
    "思路：最大化利润其实可以把总的收益利润分解到每一天的收益，并且只把正收益记录在内，也就是局部最优，最终可以达到总的最优。\n",
    "\n",
    "https://programmercarl.com/0122.%E4%B9%B0%E5%8D%96%E8%82%A1%E7%A5%A8%E7%9A%84%E6%9C%80%E4%BD%B3%E6%97%B6%E6%9C%BAII.html"
   ]
  },
  {
   "cell_type": "code",
   "execution_count": 1,
   "metadata": {},
   "outputs": [],
   "source": [
    "class Solution(object):\n",
    "    def maxProfit(self, prices):\n",
    "        \"\"\"\n",
    "        :type prices: List[int]\n",
    "        :rtype: int\n",
    "        \"\"\"\n",
    "        result=0\n",
    "        for i in range (1,len(prices)):\n",
    "            result+=max(prices[i]-prices[i-1],0)\n",
    "        return result"
   ]
  },
  {
   "cell_type": "markdown",
   "metadata": {},
   "source": [
    " 55. 跳跃游戏 \n",
    "\n",
    "思路：需要时时更新你所能跳跃的范围，也就是当前index加上index上的值，然后这个范围大于总的长度，那就是可以跳到末尾。同时i需要在cover范围里动，不然就不是连续跳跃了。\n",
    "\n",
    "https://programmercarl.com/0055.%E8%B7%B3%E8%B7%83%E6%B8%B8%E6%88%8F.html  \n"
   ]
  },
  {
   "cell_type": "code",
   "execution_count": 2,
   "metadata": {},
   "outputs": [],
   "source": [
    "class Solution(object):\n",
    "    def canJump(self, nums):\n",
    "        \"\"\"\n",
    "        :type nums: List[int]\n",
    "        :rtype: bool\n",
    "        \"\"\"\n",
    "\n",
    "        cover_area=0\n",
    "        if len(nums)==1:\n",
    "            return True\n",
    "        for i in range (len(nums)):\n",
    "            if i<=cover_area:\n",
    "                cover_area=max(i+nums[i],cover_area)\n",
    "                if cover_area>=len(nums)-1:\n",
    "                    return True\n",
    "        return False"
   ]
  },
  {
   "cell_type": "markdown",
   "metadata": {},
   "source": [
    " 45.跳跃游戏II \n",
    "\n",
    "https://programmercarl.com/0045.%E8%B7%B3%E8%B7%83%E6%B8%B8%E6%88%8FII.html  "
   ]
  },
  {
   "cell_type": "code",
   "execution_count": 3,
   "metadata": {},
   "outputs": [],
   "source": [
    "class Solution(object):\n",
    "    def jump(self, nums):\n",
    "        \"\"\"\n",
    "        :type nums: List[int]\n",
    "        :rtype: int\n",
    "        \"\"\"\n",
    "        if len(nums)==1:\n",
    "            return 0\n",
    "        # 当前覆盖范围\n",
    "        current_distance=0\n",
    "        # 下一个覆盖范围 \n",
    "        next_distance=0\n",
    "        # 最短步长\n",
    "        result=0\n",
    "        for i in range (len(nums)):\n",
    "            # 实时更新下一段步长\n",
    "            next_distance=max(i+nums[i],next_distance)\n",
    "            # 到达当前覆盖范围最远距离\n",
    "            if current_distance==i:\n",
    "                # 需要更新到下一个覆盖范围\n",
    "                current_distance=next_distance\n",
    "                result+=1\n",
    "                if next_distance>=len(nums)-1:\n",
    "                    break\n",
    "        return result\n"
   ]
  },
  {
   "cell_type": "markdown",
   "metadata": {},
   "source": [
    " 1005.K次取反后最大化的数组和  \n",
    "\n",
    "https://programmercarl.com/1005.K%E6%AC%A1%E5%8F%96%E5%8F%8D%E5%90%8E%E6%9C%80%E5%A4%A7%E5%8C%96%E7%9A%84%E6%95%B0%E7%BB%84%E5%92%8C.html  \n"
   ]
  },
  {
   "cell_type": "code",
   "execution_count": 4,
   "metadata": {},
   "outputs": [],
   "source": [
    "class Solution(object):\n",
    "    def largestSumAfterKNegations(self, nums, k):\n",
    "        \"\"\"\n",
    "        :type nums: List[int]\n",
    "        :type k: int\n",
    "        :rtype: int\n",
    "        \"\"\"\n",
    "        # 按照绝对值进行从大到小的降序排序\n",
    "        nums.sort(key=lambda x:abs(x),reverse=True)\n",
    "        result=0\n",
    "\n",
    "        # 循环，将负数的值进行翻转\n",
    "        for i in range (len(nums)):\n",
    "            if (nums[i]<0) and (k>0):\n",
    "                nums[i]=nums[i]*-1\n",
    "                k=k-1\n",
    "        # 如果k值还有剩并且是奇数的话，对最后一个值进行翻转，因为他是最小的正数\n",
    "        if (k%2==1):\n",
    "            nums[-1]=nums[-1]*-1\n",
    "        result=sum(nums)\n",
    "        return result"
   ]
  }
 ],
 "metadata": {
  "kernelspec": {
   "display_name": "base",
   "language": "python",
   "name": "python3"
  },
  "language_info": {
   "codemirror_mode": {
    "name": "ipython",
    "version": 3
   },
   "file_extension": ".py",
   "mimetype": "text/x-python",
   "name": "python",
   "nbconvert_exporter": "python",
   "pygments_lexer": "ipython3",
   "version": "3.9.7"
  }
 },
 "nbformat": 4,
 "nbformat_minor": 2
}
