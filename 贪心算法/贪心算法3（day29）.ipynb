{
 "cells": [
  {
   "cell_type": "markdown",
   "metadata": {},
   "source": [
    " 134. 加油站\n",
    "\n",
    "需要直接看解析。\n",
    "\n",
    "https://programmercarl.com/0134.%E5%8A%A0%E6%B2%B9%E7%AB%99.html"
   ]
  },
  {
   "cell_type": "code",
   "execution_count": 1,
   "metadata": {},
   "outputs": [],
   "source": [
    "class Solution(object):\n",
    "    def canCompleteCircuit(self, gas, cost):\n",
    "        \"\"\"\n",
    "        :type gas: List[int]\n",
    "        :type cost: List[int]\n",
    "        :rtype: int\n",
    "        \"\"\"\n",
    "        # make start position\n",
    "        start=0\n",
    "        # 计算大于0的差额\n",
    "        curr=0\n",
    "        # 计算所有行程的差额\n",
    "        total=0\n",
    "\n",
    "        for i in range (len(gas)):\n",
    "            curr=curr+(gas[i]-cost[i])\n",
    "            total=total+(gas[i]-cost[i])\n",
    "            # 当当前行程的差额的总和小于0，就更新起步位置\n",
    "            if curr<0:\n",
    "                start=i+1\n",
    "                curr=0\n",
    "        # 总的行程小于0，直接不成立\n",
    "        if total<0:\n",
    "                return -1\n",
    "        return start"
   ]
  },
  {
   "cell_type": "markdown",
   "metadata": {},
   "source": [
    " 135. 分发糖果 \n",
    "\n",
    "本题涉及到一个思想，就是要先处理好一边再处理另一边，不要两边想着一起兼顾 \n",
    "\n",
    "https://programmercarl.com/0135.%E5%88%86%E5%8F%91%E7%B3%96%E6%9E%9C.html  "
   ]
  },
  {
   "cell_type": "code",
   "execution_count": 2,
   "metadata": {},
   "outputs": [],
   "source": [
    "class Solution(object):\n",
    "    def candy(self, ratings):\n",
    "        \"\"\"\n",
    "        :type ratings: List[int]\n",
    "        :rtype: int\n",
    "        \"\"\"\n",
    "        # create the list for candy\n",
    "        candy_list=[1]*len(ratings)\n",
    "\n",
    "        # 从左到右，右边比左边大，在左边的基础上加1\n",
    "        for i in range (1,len(ratings)):\n",
    "            if ratings[i]>ratings[i-1]:\n",
    "                candy_list[i]=candy_list[i-1]+ 1\n",
    "        # 从右到左，左边比右边大，在右边的基础上加1\n",
    "        for i in range (len(ratings)-2,-1,-1):\n",
    "            if ratings[i]>ratings[i+1]:\n",
    "                candy_list[i]=max(candy_list[i+1]+1,candy_list[i])\n",
    "        \n",
    "        result=sum(candy_list)\n",
    "        \n",
    "        return result"
   ]
  },
  {
   "cell_type": "markdown",
   "metadata": {},
   "source": [
    "860.柠檬水找零 \n",
    "\n",
    "三种情况，在被给20元的情况时，优先考虑同时使用5元与10元，从而达到贪心算法的局部最优\n",
    "\n",
    "https://programmercarl.com/0860.%E6%9F%A0%E6%AA%AC%E6%B0%B4%E6%89%BE%E9%9B%B6.html  "
   ]
  },
  {
   "cell_type": "code",
   "execution_count": 3,
   "metadata": {},
   "outputs": [],
   "source": [
    "class Solution(object):\n",
    "    def lemonadeChange(self, bills):\n",
    "        \"\"\"\n",
    "        :type bills: List[int]\n",
    "        :rtype: bool\n",
    "        \"\"\"\n",
    "        # 三种情况\n",
    "        five=0\n",
    "        ten=0\n",
    "        twen=0\n",
    "\n",
    "        for i in bills:\n",
    "            # 5元的情况\n",
    "            if i==5:\n",
    "                five+=1\n",
    "            # 10元的情况\n",
    "            elif i==10:\n",
    "                # 有5元\n",
    "                if five>0:\n",
    "                    five-=1\n",
    "                    ten+=1\n",
    "                else:\n",
    "                    return False\n",
    "            # 20元的情况\n",
    "            elif i==20:\n",
    "                # 有10元和5元的情况\n",
    "                if five>0 and ten>0:\n",
    "                    twen+=1\n",
    "                    five-=1\n",
    "                    ten-=1\n",
    "                # 只有5元的情况\n",
    "                elif five>=3:\n",
    "                    five-=3\n",
    "                    twen+=1\n",
    "                else:\n",
    "                    return False\n",
    "        return True"
   ]
  },
  {
   "cell_type": "markdown",
   "metadata": {},
   "source": [
    "406.根据身高重建队列 \n",
    "\n",
    "本题有点难度，和分发糖果类似，不要两头兼顾，处理好一边再处理另一边。 \n",
    "\n",
    "https://programmercarl.com/0406.%E6%A0%B9%E6%8D%AE%E8%BA%AB%E9%AB%98%E9%87%8D%E5%BB%BA%E9%98%9F%E5%88%97.html  \n"
   ]
  },
  {
   "cell_type": "code",
   "execution_count": 4,
   "metadata": {},
   "outputs": [],
   "source": [
    "class Solution(object):\n",
    "    def reconstructQueue(self, people):\n",
    "        \"\"\"\n",
    "        :type people: List[List[int]]\n",
    "        :rtype: List[List[int]]\n",
    "        \"\"\"\n",
    "        people.sort(key=lambda x:(-x[0],x[1]))\n",
    "\n",
    "        que=[]\n",
    "\n",
    "        for p in people:\n",
    "            que.insert(p[1],p)\n",
    "        return que"
   ]
  }
 ],
 "metadata": {
  "kernelspec": {
   "display_name": "base",
   "language": "python",
   "name": "python3"
  },
  "language_info": {
   "codemirror_mode": {
    "name": "ipython",
    "version": 3
   },
   "file_extension": ".py",
   "mimetype": "text/x-python",
   "name": "python",
   "nbconvert_exporter": "python",
   "pygments_lexer": "ipython3",
   "version": "3.9.7"
  }
 },
 "nbformat": 4,
 "nbformat_minor": 2
}
