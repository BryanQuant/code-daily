{
 "cells": [
  {
   "cell_type": "markdown",
   "metadata": {},
   "source": [
    "455.分发饼干  \n",
    "\n",
    "思路是用大饼干去对应需求大的小孩，如果出现饼干少1，孩子成功匹配数量加1.\n",
    "\n",
    "https://programmercarl.com/0455.%E5%88%86%E5%8F%91%E9%A5%BC%E5%B9%B2.html"
   ]
  },
  {
   "cell_type": "code",
   "execution_count": 1,
   "metadata": {},
   "outputs": [],
   "source": [
    "class Solution(object):\n",
    "    def findContentChildren(self, g, s):\n",
    "        \"\"\"\n",
    "        :type g: List[int]\n",
    "        :type s: List[int]\n",
    "        :rtype: int\n",
    "        \"\"\"\n",
    "        # sort children\n",
    "        g.sort()\n",
    "        # sort cookie\n",
    "        s.sort()\n",
    "\n",
    "        index=len(s)-1\n",
    "        result=0\n",
    "        # for loop for big cookies - big children\n",
    "        for i in range (len(g)-1,-1,-1):\n",
    "            if index>=0 and s[index]>=g[i]:\n",
    "                index-=1\n",
    "                result+=1\n",
    "        return result"
   ]
  },
  {
   "cell_type": "markdown",
   "metadata": {},
   "source": [
    "376. 摆动序列\n",
    "\n",
    "思路：需要考虑平坡的情况和单调平坡的情况。平坡的情况是需要将前面变化为0包括进来。单调平坡的情况是只需要在变化时将前置变化设为当前的后置变化。\n",
    "\n",
    "https://programmercarl.com/0376.%E6%91%86%E5%8A%A8%E5%BA%8F%E5%88%97.html  \n"
   ]
  },
  {
   "cell_type": "code",
   "execution_count": 2,
   "metadata": {},
   "outputs": [],
   "source": [
    "class Solution(object):\n",
    "    def wiggleMaxLength(self, nums):\n",
    "        \"\"\"\n",
    "        :type nums: List[int]\n",
    "        :rtype: int\n",
    "        \"\"\"\n",
    "        # set result\n",
    "        result=1\n",
    "        # set pre\n",
    "        pre=0\n",
    "        for i in range (len(nums)-1):\n",
    "            # the change between next number and current number\n",
    "            curr=nums[i+1]-nums[i]\n",
    "            # include 0 to get the same number\n",
    "            if (pre<=0 and curr>0) or (pre>=0 and curr<0):\n",
    "                result+=1\n",
    "                pre=curr\n",
    "        \n",
    "        return result"
   ]
  },
  {
   "cell_type": "markdown",
   "metadata": {},
   "source": [
    "53. 最大子序和  \n",
    "\n",
    "思路：循环数组，用count去统计每一个值，用result保存最大值，如果count小于0，说明要越变越小了，需要重制。\n",
    "\n",
    "https://programmercarl.com/0053.%E6%9C%80%E5%A4%A7%E5%AD%90%E5%BA%8F%E5%92%8C.html"
   ]
  },
  {
   "cell_type": "code",
   "execution_count": 3,
   "metadata": {},
   "outputs": [],
   "source": [
    "class Solution(object):\n",
    "    def maxSubArray(self, nums):\n",
    "        \"\"\"\n",
    "        :type nums: List[int]\n",
    "        :rtype: int\n",
    "        \"\"\"\n",
    "        result=float('-inf')\n",
    "        count=0\n",
    "        for i in nums:\n",
    "            count+=i\n",
    "            if count>result:\n",
    "                result=count\n",
    "            if count<=0:\n",
    "                count=0\n",
    "        return result"
   ]
  }
 ],
 "metadata": {
  "kernelspec": {
   "display_name": "base",
   "language": "python",
   "name": "python3"
  },
  "language_info": {
   "codemirror_mode": {
    "name": "ipython",
    "version": 3
   },
   "file_extension": ".py",
   "mimetype": "text/x-python",
   "name": "python",
   "nbconvert_exporter": "python",
   "pygments_lexer": "ipython3",
   "version": "3.9.7"
  }
 },
 "nbformat": 4,
 "nbformat_minor": 2
}
