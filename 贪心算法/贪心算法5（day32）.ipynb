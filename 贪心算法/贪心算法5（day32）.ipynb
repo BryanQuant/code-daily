{
 "cells": [
  {
   "cell_type": "markdown",
   "metadata": {},
   "source": [
    "56. 合并区间  \n",
    "\n",
    "本题也是重叠区间问题，如果昨天三道都吸收的话，本题就容易理解了。\n",
    "\n",
    "https://programmercarl.com/0056.%E5%90%88%E5%B9%B6%E5%8C%BA%E9%97%B4.html  "
   ]
  },
  {
   "cell_type": "code",
   "execution_count": 1,
   "metadata": {},
   "outputs": [],
   "source": [
    "class Solution(object):\n",
    "    def merge(self, intervals):\n",
    "        \"\"\"\n",
    "        :type intervals: List[List[int]]\n",
    "        :rtype: List[List[int]]\n",
    "        \"\"\"\n",
    "        result=[]\n",
    "        if len(intervals)==0:\n",
    "            return result\n",
    "        intervals.sort(key=lambda x:x[0])\n",
    "        result.append(intervals[0])\n",
    "\n",
    "        for i in range (len(intervals)):\n",
    "            # 这里记住要跟result的最后一个右边界比，因为这才是最大值\n",
    "            if intervals[i][0]<=result[-1][1]:\n",
    "                result[-1][1]=max(intervals[i][1],result[-1][1])\n",
    "            else:\n",
    "                result.append(intervals[i])\n",
    "        \n",
    "        return result\n"
   ]
  },
  {
   "cell_type": "markdown",
   "metadata": {},
   "source": [
    " 738.单调递增的数字 \n",
    "\n",
    "https://programmercarl.com/0738.%E5%8D%95%E8%B0%83%E9%80%92%E5%A2%9E%E7%9A%84%E6%95%B0%E5%AD%97.html  \n"
   ]
  },
  {
   "cell_type": "code",
   "execution_count": 2,
   "metadata": {},
   "outputs": [],
   "source": [
    "class Solution(object):\n",
    "    def monotoneIncreasingDigits(self, n):\n",
    "        \"\"\"\n",
    "        :type n: int\n",
    "        :rtype: int\n",
    "        \"\"\"\n",
    "        str_n=str(n)\n",
    "        flag=len(str_n)\n",
    "\n",
    "        for i in range (len(str_n)-1,0,-1):\n",
    "            if str_n[i-1]>str_n[i]:\n",
    "                flag=i\n",
    "                str_n=str_n[:i-1]+str((int(str_n[i-1])-1))+str_n[i:]\n",
    "        \n",
    "        for i in range (flag,len(str_n)):\n",
    "            str_n=str_n[:i]+'9'+str_n[i+1:]\n",
    "\n",
    "        return int(str_n)"
   ]
  }
 ],
 "metadata": {
  "kernelspec": {
   "display_name": "base",
   "language": "python",
   "name": "python3"
  },
  "language_info": {
   "codemirror_mode": {
    "name": "ipython",
    "version": 3
   },
   "file_extension": ".py",
   "mimetype": "text/x-python",
   "name": "python",
   "nbconvert_exporter": "python",
   "pygments_lexer": "ipython3",
   "version": "3.9.7"
  }
 },
 "nbformat": 4,
 "nbformat_minor": 2
}
