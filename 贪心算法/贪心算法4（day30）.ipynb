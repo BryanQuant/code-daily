{
 "cells": [
  {
   "cell_type": "markdown",
   "metadata": {},
   "source": [
    "452. 用最少数量的箭引爆气球\n",
    "\n",
    "https://programmercarl.com/0452.%E7%94%A8%E6%9C%80%E5%B0%91%E6%95%B0%E9%87%8F%E7%9A%84%E7%AE%AD%E5%BC%95%E7%88%86%E6%B0%94%E7%90%83.html  "
   ]
  },
  {
   "cell_type": "code",
   "execution_count": 1,
   "metadata": {},
   "outputs": [],
   "source": [
    "class Solution(object):\n",
    "    def findMinArrowShots(self, points):\n",
    "        \"\"\"\n",
    "        :type points: List[List[int]]\n",
    "        :rtype: int\n",
    "        \"\"\"\n",
    "        # 没有气球，设为0\n",
    "        if len(points)==0:\n",
    "            return 0\n",
    "        # 初始弓箭的数量为1\n",
    "        result=1\n",
    "        # 按照左边界排序\n",
    "        points.sort(key=lambda x:x[0])\n",
    "        # 当前左边界大于上一个的右边界，弓箭手加1\n",
    "        for i in range (len(points)):\n",
    "            if points[i][0]>points[i-1][1]:\n",
    "                result+=1\n",
    "            else:\n",
    "                # 去最小值，从而能够判断多个重叠部分\n",
    "                points[i][1]=min(points[i][1],points[i-1][1])    \n",
    "        return result"
   ]
  },
  {
   "cell_type": "markdown",
   "metadata": {},
   "source": [
    " 435. 无重叠区间 \n",
    "\n",
    "https://programmercarl.com/0435.%E6%97%A0%E9%87%8D%E5%8F%A0%E5%8C%BA%E9%97%B4.html  "
   ]
  },
  {
   "cell_type": "code",
   "execution_count": 2,
   "metadata": {},
   "outputs": [],
   "source": [
    "class Solution(object):\n",
    "    def eraseOverlapIntervals(self, intervals):\n",
    "        \"\"\"\n",
    "        :type intervals: List[List[int]]\n",
    "        :rtype: int\n",
    "        \"\"\"\n",
    "        # 没有数的情况\n",
    "        if len(intervals)==0:\n",
    "            return 0\n",
    "        # 按照左边界排序\n",
    "        intervals.sort(key=lambda x:x[0])\n",
    "        # 初始重叠区间值\n",
    "        result=0\n",
    "        for i in range (1,len(intervals)):\n",
    "            # 当前左区间小于右区别，说明重叠了\n",
    "            if intervals[i][0]<intervals[i-1][1]:\n",
    "                # 重叠区间的右边最小值，从而可以确定下一个区间的左边在不在这个区间里\n",
    "                intervals[i][1]=min(intervals[i][1],intervals[i-1][1])\n",
    "                result+=1\n",
    "        return result"
   ]
  },
  {
   "cell_type": "markdown",
   "metadata": {},
   "source": [
    "763.划分字母区间 \n",
    "\n",
    "https://programmercarl.com/0763.%E5%88%92%E5%88%86%E5%AD%97%E6%AF%8D%E5%8C%BA%E9%97%B4.html  "
   ]
  },
  {
   "cell_type": "code",
   "execution_count": 3,
   "metadata": {},
   "outputs": [],
   "source": [
    "class Solution(object):\n",
    "    def partitionLabels(self, s):\n",
    "        \"\"\"\n",
    "        :type s: str\n",
    "        :rtype: List[int]\n",
    "        \"\"\"\n",
    "        result=[]\n",
    "        s_dict={}\n",
    "        if len(s)==0:\n",
    "            return result\n",
    "        # i为字母的index，ch为字母值\n",
    "        for i,ch in enumerate(s):\n",
    "            s_dict[ch]=i\n",
    "        start=0\n",
    "        end=0\n",
    "        for i in range (len(s)):\n",
    "            # 找到每个字母的最远距离和当前距离边界的最大值\n",
    "            end=max(end,s_dict[s[i]])\n",
    "            # 达到最远距离\n",
    "            if i==end:\n",
    "                result.append(end-start+1)\n",
    "                start=i+1\n",
    "        return result        "
   ]
  }
 ],
 "metadata": {
  "kernelspec": {
   "display_name": "base",
   "language": "python",
   "name": "python3"
  },
  "language_info": {
   "codemirror_mode": {
    "name": "ipython",
    "version": 3
   },
   "file_extension": ".py",
   "mimetype": "text/x-python",
   "name": "python",
   "nbconvert_exporter": "python",
   "pygments_lexer": "ipython3",
   "version": "3.9.7"
  }
 },
 "nbformat": 4,
 "nbformat_minor": 2
}
