{
 "cells": [
  {
   "cell_type": "markdown",
   "metadata": {},
   "source": [
    " 226.翻转二叉树 （优先掌握递归） \n",
    "\n",
    "思路：因为是python代码，直接交换root所对应的指针，同时记住只能使用前序遍历和后序遍历。如果使用中序遍历，会存在对左子树操作两次的问题\n",
    "\n",
    "题目链接/文章讲解/视频讲解：https://programmercarl.com/0226.%E7%BF%BB%E8%BD%AC%E4%BA%8C%E5%8F%89%E6%A0%91.html \n"
   ]
  },
  {
   "cell_type": "code",
   "execution_count": 1,
   "metadata": {},
   "outputs": [],
   "source": [
    "# Definition for a binary tree node.\n",
    "# class TreeNode(object):\n",
    "#     def __init__(self, val=0, left=None, right=None):\n",
    "#         self.val = val\n",
    "#         self.left = left\n",
    "#         self.right = right\n",
    "class Solution(object):\n",
    "    def invertTree(self, root):\n",
    "        \"\"\"\n",
    "        :type root: TreeNode\n",
    "        :rtype: TreeNode\n",
    "        \"\"\"\n",
    "        if not root:\n",
    "            return None\n",
    "        root.left,root.right=root.right,root.left\n",
    "        self.invertTree(root.right)\n",
    "        self.invertTree(root.left)\n",
    "        return root"
   ]
  },
  {
   "cell_type": "markdown",
   "metadata": {},
   "source": [
    " 101. 对称二叉树 （优先掌握递归）  \n",
    "\n",
    "思路：第一，需要创建一个global函数，从而使可以比较整体树的左右两个支树。第二，确定递归结束条件。第三比较两支树的外侧和内侧，相同即为对称。左支树的外侧为left.left，右支树的外侧为right.right。左支树的内侧为left.right,右支树的内侧为right.left。\n",
    "\n",
    "题目链接/文章讲解/视频讲解：https://programmercarl.com/0101.%E5%AF%B9%E7%A7%B0%E4%BA%8C%E5%8F%89%E6%A0%91.html"
   ]
  },
  {
   "cell_type": "code",
   "execution_count": 2,
   "metadata": {},
   "outputs": [],
   "source": [
    "# Definition for a binary tree node.\n",
    "# class TreeNode(object):\n",
    "#     def __init__(self, val=0, left=None, right=None):\n",
    "#         self.val = val\n",
    "#         self.left = left\n",
    "#         self.right = right\n",
    "class Solution(object):\n",
    "    def compare(self,left,right):\n",
    "            if (right==None) & (left!=None):\n",
    "                return False\n",
    "            elif (right!=None) & (left==None):\n",
    "                return False\n",
    "            elif (right==None) & (left==None):\n",
    "                return True\n",
    "            elif right.val != left.val:\n",
    "                return False\n",
    "            \n",
    "            outside = self.compare(left.left,right.right)\n",
    "            inside = self.compare(left.right,right.left)\n",
    "            result = outside & inside\n",
    "            return result\n",
    "            \n",
    "    def isSymmetric(self, root):\n",
    "        \"\"\"\n",
    "        :type root: TreeNode\n",
    "        :rtype: bool\n",
    "        \"\"\"\n",
    "        if root is None:\n",
    "            return True\n",
    "        \n",
    "        return self.compare(root.left,root.right)"
   ]
  },
  {
   "cell_type": "markdown",
   "metadata": {},
   "source": [
    " 104.二叉树的最大深度 （优先掌握递归）\n",
    "\n",
    "使用广度遍历法（迭代法）\n",
    "\n",
    "题目链接/文章讲解/视频讲解： https://programmercarl.com/0104.%E4%BA%8C%E5%8F%89%E6%A0%91%E7%9A%84%E6%9C%80%E5%A4%A7%E6%B7%B1%E5%BA%A6.html  \n"
   ]
  },
  {
   "cell_type": "code",
   "execution_count": 3,
   "metadata": {},
   "outputs": [],
   "source": [
    "# 迭代法\n",
    "# Definition for a binary tree node.\n",
    "# class TreeNode(object):\n",
    "#     def __init__(self, val=0, left=None, right=None):\n",
    "#         self.val = val\n",
    "#         self.left = left\n",
    "#         self.right = right\n",
    "class Solution(object):\n",
    "    def maxDepth(self, root):\n",
    "        \"\"\"\n",
    "        :type root: TreeNode\n",
    "        :rtype: int\n",
    "        \"\"\"\n",
    "        res=[]\n",
    "        if root is None:\n",
    "            return len(res)\n",
    "        quene=collections.deque([root])\n",
    "        while quene:\n",
    "            size = len(quene)\n",
    "            temp=[]\n",
    "            for i in range (size):\n",
    "                r = quene.popleft()\n",
    "                temp.append(r.val)\n",
    "                if r.left:\n",
    "                    quene.append(r.left)\n",
    "                if r.right:\n",
    "                    quene.append(r.right)\n",
    "            res.append(temp)\n",
    "        return len(res)\n",
    "    \n",
    "# 递归法\n",
    "# Definition for a binary tree node.\n",
    "# class TreeNode(object):\n",
    "#     def __init__(self, val=0, left=None, right=None):\n",
    "#         self.val = val\n",
    "#         self.left = left\n",
    "#         self.right = right\n",
    "class Solution(object):\n",
    "    def maxDepth(self, root):\n",
    "        \"\"\"\n",
    "        :type root: TreeNode\n",
    "        :rtype: int\n",
    "        \"\"\"\n",
    "        if root is None:\n",
    "            return 0\n",
    "        return 1+max(self.maxDepth(root.left),self.maxDepth(root.right))"
   ]
  },
  {
   "cell_type": "markdown",
   "metadata": {},
   "source": [
    " 111.二叉树的最小深度 （优先掌握递归）\n",
    "\n",
    "这里需要注意的是根节点的左右孩子是否为null的情况来进行判断。\n",
    "有一个null说明其中一个m值为0，另外一个m值需要加1\n",
    "都为null，最小深度即为根节点，1\n",
    "\n",
    "题目链接/文章讲解/视频讲解：https://programmercarl.com/0111.%E4%BA%8C%E5%8F%89%E6%A0%91%E7%9A%84%E6%9C%80%E5%B0%8F%E6%B7%B1%E5%BA%A6.html \n"
   ]
  },
  {
   "cell_type": "code",
   "execution_count": 4,
   "metadata": {},
   "outputs": [],
   "source": [
    "# Definition for a binary tree node.\n",
    "# class TreeNode(object):\n",
    "#     def __init__(self, val=0, left=None, right=None):\n",
    "#         self.val = val\n",
    "#         self.left = left\n",
    "#         self.right = right\n",
    "class Solution(object):\n",
    "    def minDepth(self, root):\n",
    "        \"\"\"\n",
    "        :type root: TreeNode\n",
    "        :rtype: int\n",
    "        \"\"\"\n",
    "        if root is None:\n",
    "            return 0\n",
    "        if root.left is None and root.right is None:\n",
    "            return 1\n",
    "        m1 = self.minDepth(root.left)\n",
    "        m2 = self.minDepth(root.right)\n",
    "        if (root.left is None or root.right is None):\n",
    "            return m1 + m2 +1\n",
    "        return 1+min(m1,m2)\n",
    "    "
   ]
  }
 ],
 "metadata": {
  "kernelspec": {
   "display_name": "base",
   "language": "python",
   "name": "python3"
  },
  "language_info": {
   "codemirror_mode": {
    "name": "ipython",
    "version": 3
   },
   "file_extension": ".py",
   "mimetype": "text/x-python",
   "name": "python",
   "nbconvert_exporter": "python",
   "pygments_lexer": "ipython3",
   "version": "3.9.7"
  }
 },
 "nbformat": 4,
 "nbformat_minor": 2
}
