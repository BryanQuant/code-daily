{
 "cells": [
  {
   "cell_type": "markdown",
   "metadata": {},
   "source": [
    " 110.平衡二叉树 （优先掌握递归）\n",
    "\n",
    "再一次涉及到，什么是高度，什么是深度。\n",
    "\n",
    "思路：还是使用高度的求法，也是后序遍历，但是这里需要添加判断平衡二叉树的条件，也就是当左右两个孩子的高度差已经大于1时，直接return -1.\n",
    "\n",
    "题目链接/文章讲解/视频讲解：https://programmercarl.com/0110.%E5%B9%B3%E8%A1%A1%E4%BA%8C%E5%8F%89%E6%A0%91.html  \n",
    "\n"
   ]
  },
  {
   "cell_type": "code",
   "execution_count": 1,
   "metadata": {},
   "outputs": [],
   "source": [
    "# Definition for a binary tree node.\n",
    "# class TreeNode(object):\n",
    "#     def __init__(self, val=0, left=None, right=None):\n",
    "#         self.val = val\n",
    "#         self.left = left\n",
    "#         self.right = right\n",
    "class Solution(object):\n",
    "    def get_height(self,node):\n",
    "        # stop\n",
    "        if not node:\n",
    "            return 0\n",
    "        # left\n",
    "        left=self.get_height(node.left)\n",
    "        # right\n",
    "        right=self.get_height(node.right)\n",
    "        # not balance situation\n",
    "        if left==-1 or right==-1 or abs(left-right)>1:\n",
    "            return -1\n",
    "        else:\n",
    "            return max(left,right)+1\n",
    "    def isBalanced(self, root):\n",
    "        \"\"\"\n",
    "        :type root: TreeNode\n",
    "        :rtype: bool\n",
    "        \"\"\"\n",
    "        return self.get_height(root)!=-1"
   ]
  },
  {
   "cell_type": "markdown",
   "metadata": {},
   "source": [
    " 257. 二叉树的所有路径 （优先掌握递归）  \n",
    "\n",
    "这是第一次接触到回溯的过程， 视频里重点讲解了本题为什么要有回溯。 \n",
    "\n",
    "这题需要注意的是使用前序遍历时，应该把中放在判断条件前面，也就是判断左右两孩子都为空的情况的前面，从而把左右两个孩子都为空的情况的node的val加入到path里。\n",
    "\n",
    "题目链接/文章讲解/视频讲解：https://programmercarl.com/0257.%E4%BA%8C%E5%8F%89%E6%A0%91%E7%9A%84%E6%89%80%E6%9C%89%E8%B7%AF%E5%BE%84.html"
   ]
  },
  {
   "cell_type": "code",
   "execution_count": 2,
   "metadata": {},
   "outputs": [],
   "source": [
    "# Definition for a binary tree node.\n",
    "# class TreeNode(object):\n",
    "#     def __init__(self, val=0, left=None, right=None):\n",
    "#         self.val = val\n",
    "#         self.left = left\n",
    "#         self.right = right\n",
    "class Solution(object):\n",
    "    def trav(self,node,path,result):\n",
    "        # middle\n",
    "        path.append(node.val)\n",
    "        if not node.left and not node.right:\n",
    "            spath = '->'.join(map(str,path))\n",
    "            result.append(spath)\n",
    "            return\n",
    "        # left\n",
    "        if node.left:\n",
    "            self.trav(node.left,path,result)\n",
    "            path.pop()\n",
    "        # right\n",
    "        if node.right:\n",
    "            self.trav(node.right,path,result)\n",
    "            path.pop()\n",
    "        \n",
    "    def binaryTreePaths(self, root):\n",
    "        \"\"\"\n",
    "        :type root: TreeNode\n",
    "        :rtype: List[str]\n",
    "        \"\"\"\n",
    "        result=[]\n",
    "        path=[]\n",
    "        if not root:\n",
    "            return result\n",
    "        self.trav(root,path,result)\n",
    "        return result"
   ]
  },
  {
   "cell_type": "markdown",
   "metadata": {},
   "source": [
    " 404.左叶子之和 （优先掌握递归）\n",
    "\n",
    "本题有点文字游戏，搞清楚什么是左叶子，剩下的就是二叉树的基本操作。\n",
    "\n",
    "左叶子的明确定义：节点A的左孩子不为空，且左孩子的左右孩子都为空（说明是叶子节点），那么A节点的左孩子为左叶子节点\n",
    "\n",
    "题目链接/文章讲解/视频讲解：https://programmercarl.com/0404.%E5%B7%A6%E5%8F%B6%E5%AD%90%E4%B9%8B%E5%92%8C.html  "
   ]
  },
  {
   "cell_type": "code",
   "execution_count": 3,
   "metadata": {},
   "outputs": [],
   "source": [
    "# Definition for a binary tree node.\n",
    "# class TreeNode(object):\n",
    "#     def __init__(self, val=0, left=None, right=None):\n",
    "#         self.val = val\n",
    "#         self.left = left\n",
    "#         self.right = right\n",
    "class Solution(object):\n",
    "    def sumOfLeftLeaves(self, root):\n",
    "        \"\"\"\n",
    "        :type root: TreeNode\n",
    "        :rtype: int\n",
    "        \"\"\"\n",
    "        if not root:\n",
    "            return 0\n",
    "\n",
    "        left_sum = self.sumOfLeftLeaves(root.left)\n",
    "        right_sum = self.sumOfLeftLeaves(root.right)\n",
    "        cur_sum=0\n",
    "\n",
    "        if root.left and not root.left.left and not root.left.right:\n",
    "            cur_sum=root.left.val\n",
    "        return cur_sum+left_sum+right_sum\n",
    "        "
   ]
  },
  {
   "cell_type": "markdown",
   "metadata": {},
   "source": [
    " 222.完全二叉树的节点个数（优先掌握递归）\n",
    "\n",
    "需要了解，普通二叉树怎么求，完全二叉树又怎么求\n",
    "\n",
    "题目链接/文章讲解/视频讲解：https://programmercarl.com/0222.%E5%AE%8C%E5%85%A8%E4%BA%8C%E5%8F%89%E6%A0%91%E7%9A%84%E8%8A%82%E7%82%B9%E4%B8%AA%E6%95%B0.html  "
   ]
  },
  {
   "cell_type": "code",
   "execution_count": 4,
   "metadata": {},
   "outputs": [],
   "source": [
    "# Definition for a binary tree node.\n",
    "# class TreeNode(object):\n",
    "#     def __init__(self, val=0, left=None, right=None):\n",
    "#         self.val = val\n",
    "#         self.left = left\n",
    "#         self.right = right\n",
    "class Solution(object):\n",
    "    def get_num(self,node):\n",
    "        if not node:\n",
    "            return 0\n",
    "        left_num=self.get_num(node.left)\n",
    "        right_num=self.get_num(node.right)\n",
    "        return left_num+right_num+1\n",
    "    def countNodes(self, root):\n",
    "        \"\"\"\n",
    "        :type root: TreeNode\n",
    "        :rtype: int\n",
    "        \"\"\"\n",
    "        if not root:\n",
    "            return 0\n",
    "        return self.get_num(root)"
   ]
  }
 ],
 "metadata": {
  "kernelspec": {
   "display_name": "base",
   "language": "python",
   "name": "python3"
  },
  "language_info": {
   "codemirror_mode": {
    "name": "ipython",
    "version": 3
   },
   "file_extension": ".py",
   "mimetype": "text/x-python",
   "name": "python",
   "nbconvert_exporter": "python",
   "pygments_lexer": "ipython3",
   "version": "3.9.7"
  }
 },
 "nbformat": 4,
 "nbformat_minor": 2
}
