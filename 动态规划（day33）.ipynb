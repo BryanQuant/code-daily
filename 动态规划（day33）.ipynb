{
 "cells": [
  {
   "cell_type": "markdown",
   "metadata": {},
   "source": [
    "509. 斐波那契数 \n",
    "\n",
    "很简单的动规入门题，但简单题使用来掌握方法论的，还是要有动规五部曲来分析。\n",
    "\n",
    "https://programmercarl.com/0509.%E6%96%90%E6%B3%A2%E9%82%A3%E5%A5%91%E6%95%B0.html  \n",
    "视频：https://www.bilibili.com/video/BV1f5411K7mo  \n"
   ]
  },
  {
   "cell_type": "code",
   "execution_count": 1,
   "metadata": {},
   "outputs": [],
   "source": [
    "class Solution(object):\n",
    "    def fib(self, n):\n",
    "        \"\"\"\n",
    "        :type n: int\n",
    "        :rtype: int\n",
    "        \"\"\"\n",
    "        if n==0:\n",
    "            return 0\n",
    "        dp=[0]*(n+1)\n",
    "        dp[0]=0\n",
    "        dp[1]=1\n",
    "        for i in range (2,n+1):\n",
    "            dp[i]=dp[i-1]+dp[i-2]\n",
    "        \n",
    "        return dp[n]"
   ]
  },
  {
   "cell_type": "markdown",
   "metadata": {},
   "source": [
    " 70. 爬楼梯   \n",
    "\n",
    "和斐波那契数有点关系。\n",
    "\n",
    "https://programmercarl.com/0070.%E7%88%AC%E6%A5%BC%E6%A2%AF.html  \n",
    "视频：https://www.bilibili.com/video/BV17h411h7UH  \n"
   ]
  },
  {
   "cell_type": "code",
   "execution_count": 2,
   "metadata": {},
   "outputs": [],
   "source": [
    "class Solution(object):\n",
    "    def climbStairs(self, n):\n",
    "        \"\"\"\n",
    "        :type n: int\n",
    "        :rtype: int\n",
    "        \"\"\"\n",
    "        if n<=1:\n",
    "            return n\n",
    "        dp=[0]*(n+1)\n",
    "        dp[1]=1\n",
    "        dp[2]=2\n",
    "        for i in range (3,n+1):\n",
    "            dp[i]=dp[i-1]+dp[i-2]\n",
    "        \n",
    "        return dp[n]"
   ]
  },
  {
   "cell_type": "markdown",
   "metadata": {},
   "source": [
    " 746. 使用最小花费爬楼梯 \n",
    "\n",
    "这道题目力扣改了题目描述了，现在的题目描述清晰很多，相当于明确说 第一步是不用花费的。 \n",
    "\n",
    "https://programmercarl.com/0746.%E4%BD%BF%E7%94%A8%E6%9C%80%E5%B0%8F%E8%8A%B1%E8%B4%B9%E7%88%AC%E6%A5%BC%E6%A2%AF.html   \n",
    "视频讲解：https://www.bilibili.com/video/BV16G411c7yZ "
   ]
  },
  {
   "cell_type": "code",
   "execution_count": 3,
   "metadata": {},
   "outputs": [],
   "source": [
    "class Solution(object):\n",
    "    def minCostClimbingStairs(self, cost):\n",
    "        \"\"\"\n",
    "        :type cost: List[int]\n",
    "        :rtype: int\n",
    "        \"\"\"\n",
    "        # 初始dp数组\n",
    "        dp=[0]*(len(cost)+1)\n",
    "        # 选择不跳不用花费cost\n",
    "        dp[0]=0\n",
    "        # 选择跳一步也不用花费cost\n",
    "        dp[1]=0\n",
    "\n",
    "        # 从第二步开始计算，并且同时更新两种跳法的最小成本并累计\n",
    "        for i in range (2,len(cost)+1):\n",
    "            dp[i]=min(dp[i-1]+cost[i-1],dp[i-2]+cost[i-2])\n",
    "        \n",
    "        return dp[len(cost)]"
   ]
  }
 ],
 "metadata": {
  "kernelspec": {
   "display_name": "base",
   "language": "python",
   "name": "python3"
  },
  "language_info": {
   "codemirror_mode": {
    "name": "ipython",
    "version": 3
   },
   "file_extension": ".py",
   "mimetype": "text/x-python",
   "name": "python",
   "nbconvert_exporter": "python",
   "pygments_lexer": "ipython3",
   "version": "3.9.7"
  }
 },
 "nbformat": 4,
 "nbformat_minor": 2
}
