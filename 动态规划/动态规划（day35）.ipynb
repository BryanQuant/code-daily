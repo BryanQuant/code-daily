{
 "cells": [
  {
   "cell_type": "markdown",
   "metadata": {},
   "source": [
    " 01背包问题 二维 \n",
    "\n",
    "https://programmercarl.com/%E8%83%8C%E5%8C%85%E7%90%86%E8%AE%BA%E5%9F%BA%E7%A1%8001%E8%83%8C%E5%8C%85-1.html  \n",
    "\n",
    "视频讲解：https://www.bilibili.com/video/BV1cg411g7Y6  "
   ]
  },
  {
   "cell_type": "code",
   "execution_count": null,
   "metadata": {},
   "outputs": [],
   "source": [
    "n, bagweight = map(int, input().split())\n",
    "\n",
    "weight = list(map(int, input().split()))\n",
    "value = list(map(int, input().split()))\n",
    "\n",
    "dp_list=[[0]*(bagweight+1) for _ in range (n)]\n",
    "\n",
    "\n",
    "\n",
    "\n",
    "for j in range (weight[0],bagweight+1):\n",
    "    dp_list[0][j]=value[0]\n",
    "    \n",
    "for i in range (1,len(weight)):\n",
    "    for j in range (bagweight+1):\n",
    "        if j<weight[i]:\n",
    "            dp_list[i][j]=dp_list[i-1][j]\n",
    "        else:\n",
    "            dp_list[i][j]=max(dp_list[i-1][j],dp_list[i-1][j-weight[i]]+value[i])\n",
    "    \n",
    "print(dp_list[n-1][bagweight])"
   ]
  },
  {
   "cell_type": "markdown",
   "metadata": {},
   "source": [
    " 01背包问题 一维 \n",
    "\n",
    "https://programmercarl.com/%E8%83%8C%E5%8C%85%E7%90%86%E8%AE%BA%E5%9F%BA%E7%A1%8001%E8%83%8C%E5%8C%85-2.html  \n",
    "\n",
    "视频讲解：https://www.bilibili.com/video/BV1BU4y177kY  \n"
   ]
  },
  {
   "cell_type": "code",
   "execution_count": null,
   "metadata": {},
   "outputs": [],
   "source": [
    "n, bagweight = map(int, input().split())\n",
    "\n",
    "weight = list(map(int, input().split()))\n",
    "value = list(map(int, input().split()))\n",
    "\n",
    "dp_list=[0]*(bagweight+1)\n",
    "\n",
    "for i in range (n):\n",
    "    for j in range (bagweight,weight[i]-1,-1):\n",
    "        dp_list[j]=max(dp_list[j],dp_list[j-weight[i]]+value[i])\n",
    "\n",
    "print(dp_list[bagweight])"
   ]
  },
  {
   "cell_type": "markdown",
   "metadata": {},
   "source": [
    " 416. 分割等和子集  \n",
    "\n",
    "本题是 01背包的应用类题目\n",
    "\n",
    "https://programmercarl.com/0416.%E5%88%86%E5%89%B2%E7%AD%89%E5%92%8C%E5%AD%90%E9%9B%86.html    \n",
    "\n",
    "视频讲解：https://www.bilibili.com/video/BV1rt4y1N7jE\n"
   ]
  },
  {
   "cell_type": "code",
   "execution_count": 1,
   "metadata": {},
   "outputs": [],
   "source": [
    "class Solution(object):\n",
    "    def canPartition(self, nums):\n",
    "        \"\"\"\n",
    "        :type nums: List[int]\n",
    "        :rtype: bool\n",
    "        \"\"\"\n",
    "        if sum(nums)%2!=0:\n",
    "            return False\n",
    "        target=sum(nums)/2\n",
    "        dp=[0]*(target+1)\n",
    "        for num in nums:\n",
    "            for i in range (target,num-1,-1):\n",
    "                dp[i]=max(dp[i],dp[i-num]+num)\n",
    "        \n",
    "        if dp[target]==target:\n",
    "            return True\n",
    "        return False"
   ]
  }
 ],
 "metadata": {
  "kernelspec": {
   "display_name": "base",
   "language": "python",
   "name": "python3"
  },
  "language_info": {
   "codemirror_mode": {
    "name": "ipython",
    "version": 3
   },
   "file_extension": ".py",
   "mimetype": "text/x-python",
   "name": "python",
   "nbconvert_exporter": "python",
   "pygments_lexer": "ipython3",
   "version": "3.9.7"
  }
 },
 "nbformat": 4,
 "nbformat_minor": 2
}
