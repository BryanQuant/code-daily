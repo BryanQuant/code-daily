{
 "cells": [
  {
   "cell_type": "markdown",
   "metadata": {},
   "source": [
    "1049. 最后一块石头的重量 II \n",
    "\n",
    "本题和昨天的416. 分割等和子集很像。 \n",
    "\n",
    "视频讲解：https://www.bilibili.com/video/BV14M411C7oV \n",
    "\n",
    "https://programmercarl.com/1049.%E6%9C%80%E5%90%8E%E4%B8%80%E5%9D%97%E7%9F%B3%E5%A4%B4%E7%9A%84%E9%87%8D%E9%87%8FII.html  \n"
   ]
  },
  {
   "cell_type": "code",
   "execution_count": 1,
   "metadata": {},
   "outputs": [],
   "source": [
    "class Solution(object):\n",
    "    def lastStoneWeightII(self, stones):\n",
    "        \"\"\"\n",
    "        :type stones: List[int]\n",
    "        :rtype: int\n",
    "        \"\"\"\n",
    "        # create dp list\n",
    "        dp=[0]*15001\n",
    "        # calculate total weight\n",
    "        total=sum(stones)\n",
    "        # around half\n",
    "        target=total//2\n",
    "        # the total value of bag is target\n",
    "        for stone in stones:\n",
    "            for j in range (target, stone-1,-1):\n",
    "                dp[j]=max(dp[j],dp[j-stone]+stone)\n",
    "    \n",
    "        result=total-dp[target]-dp[target]\n",
    "        return result\n"
   ]
  },
  {
   "cell_type": "markdown",
   "metadata": {},
   "source": [
    "494. 目标和 \n",
    "\n",
    "重点理解 递推公式：dp[j] += dp[j - nums[i]]。  \n",
    "\n",
    "视频讲解：https://www.bilibili.com/video/BV1o8411j73x\n",
    "\n",
    "https://programmercarl.com/0494.%E7%9B%AE%E6%A0%87%E5%92%8C.html  "
   ]
  },
  {
   "cell_type": "code",
   "execution_count": 2,
   "metadata": {},
   "outputs": [],
   "source": [
    "class Solution(object):\n",
    "    def findTargetSumWays(self, nums, target):\n",
    "        \"\"\"\n",
    "        :type nums: List[int]\n",
    "        :type target: int\n",
    "        :rtype: int\n",
    "        \"\"\"\n",
    "        total_sum=sum(nums)\n",
    "        if abs(target)>total_sum:\n",
    "            return 0\n",
    "        if (total_sum+target)%2==1:\n",
    "            return 0\n",
    "        left = (target+total_sum)//2\n",
    "\n",
    "        dp=[[0]*(left+1) for _ in range (len(nums)+1)]\n",
    "        dp[0][0]=1\n",
    "\n",
    "        for i in range (1,len(nums)+1):\n",
    "            for j in range (left+1):\n",
    "                dp[i][j]=dp[i-1][j]\n",
    "                if (j>=nums[i-1]):\n",
    "                    dp[i][j]+=dp[i-1][j-nums[i-1]]\n",
    "\n",
    "        return dp[len(nums)][left]"
   ]
  },
  {
   "cell_type": "markdown",
   "metadata": {},
   "source": [
    " 474.一和零  \n",
    "\n",
    "通过这道题目，了解01背包的个数统计应用\n",
    "\n",
    "视频讲解：https://www.bilibili.com/video/BV1rW4y1x7ZQ \n",
    "\n",
    "https://programmercarl.com/0474.%E4%B8%80%E5%92%8C%E9%9B%B6.html  \n"
   ]
  },
  {
   "cell_type": "code",
   "execution_count": 3,
   "metadata": {},
   "outputs": [],
   "source": [
    "class Solution(object):\n",
    "    def findMaxForm(self, strs, m, n):\n",
    "        \"\"\"\n",
    "        :type strs: List[str]\n",
    "        :type m: int\n",
    "        :type n: int\n",
    "        :rtype: int\n",
    "        \"\"\"\n",
    "        # create n+1*m+1 list, because it has 0,0\n",
    "        np=[[0]*(n+1) for _ in range (m+1)]\n",
    "        # for loop every string, count 1 and 0, to let bagback can have the maxmum count for zero and one\n",
    "        for st in strs:\n",
    "            zeronum=st.count('0')\n",
    "            onenum=st.count('1')\n",
    "            for i in range (m,zeronum-1,-1):\n",
    "                for j in range (n,onenum-1,-1):\n",
    "                    np[i][j]=max(np[i][j],np[i-zeronum][j-onenum]+1)\n",
    "        \n",
    "        return np[m][n]"
   ]
  }
 ],
 "metadata": {
  "kernelspec": {
   "display_name": "base",
   "language": "python",
   "name": "python3"
  },
  "language_info": {
   "codemirror_mode": {
    "name": "ipython",
    "version": 3
   },
   "file_extension": ".py",
   "mimetype": "text/x-python",
   "name": "python",
   "nbconvert_exporter": "python",
   "pygments_lexer": "ipython3",
   "version": "3.9.7"
  }
 },
 "nbformat": 4,
 "nbformat_minor": 2
}
