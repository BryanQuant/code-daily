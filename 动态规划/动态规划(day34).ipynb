{
 "cells": [
  {
   "cell_type": "markdown",
   "metadata": {},
   "source": [
    " 62.不同路径 \n",
    "\n",
    "本题掌握动态规划的方法就可以,经典走格子问题\n",
    "\n",
    "https://programmercarl.com/0062.%E4%B8%8D%E5%90%8C%E8%B7%AF%E5%BE%84.html  \n",
    "视频讲解：https://www.bilibili.com/video/BV1ve4y1x7Eu\n"
   ]
  },
  {
   "cell_type": "code",
   "execution_count": 1,
   "metadata": {},
   "outputs": [],
   "source": [
    "class Solution(object):\n",
    "    def uniquePaths(self, m, n):\n",
    "        \"\"\"\n",
    "        :type m: int\n",
    "        :type n: int\n",
    "        :rtype: int\n",
    "        \"\"\"\n",
    "        # 初始化表格\n",
    "        dp_note=[[0]* n for _ in range (m)]\n",
    "        # 初始化第一列和第一行，因为只能向下向右走，他们的走路方式只有一种\n",
    "        for i in range (n):\n",
    "            dp_note[0][i]=1\n",
    "        for j in range (m):\n",
    "            dp_note[j][0]=1\n",
    "        # 完成方法计算，等于左格子加上格子的方法总和\n",
    "        for i in range (1,m):\n",
    "            for j in range (1,n):\n",
    "                dp_note[i][j]=dp_note[i-1][j]+dp_note[i][j-1]\n",
    "        \n",
    "        return dp_note[m-1][n-1]"
   ]
  },
  {
   "cell_type": "markdown",
   "metadata": {},
   "source": [
    " 63. 不同路径 II \n",
    "\n",
    "https://programmercarl.com/0063.%E4%B8%8D%E5%90%8C%E8%B7%AF%E5%BE%84II.html  \n",
    "视频讲解：https://www.bilibili.com/video/BV1Ld4y1k7c6                "
   ]
  },
  {
   "cell_type": "code",
   "execution_count": 2,
   "metadata": {},
   "outputs": [],
   "source": [
    "class Solution(object):\n",
    "    def uniquePathsWithObstacles(self, obstacleGrid):\n",
    "        \"\"\"\n",
    "        :type obstacleGrid: List[List[int]]\n",
    "        :rtype: int\n",
    "        \"\"\"\n",
    "        # 初始化行和列\n",
    "        m=len(obstacleGrid)\n",
    "        n=len(obstacleGrid[0])\n",
    "        # 出现障碍在我们的终点或者起点，直接返回0\n",
    "        if obstacleGrid[m-1][n-1]==1 or obstacleGrid[0][0]==1:\n",
    "            return 0\n",
    "        # 创建表格，当出现障碍后，最开始的列和行都再也到不了，所以后续为0\n",
    "        dp_set=[[0]*n for _ in range (m)]\n",
    "        for i in range (m):\n",
    "            if obstacleGrid[i][0]==0:\n",
    "                dp_set[i][0]=1\n",
    "            else:\n",
    "                break\n",
    "        for j in range (n):\n",
    "            if obstacleGrid[0][j]==0:\n",
    "                dp_set[0][j]=1\n",
    "            else:\n",
    "                break\n",
    "        \n",
    "        # 出现障碍，跳过求和\n",
    "        for i in range (1,m):\n",
    "            for j in range (1,n):\n",
    "                if obstacleGrid[i][j]==1:\n",
    "                    continue\n",
    "                dp_set[i][j]=dp_set[i-1][j]+dp_set[i][j-1]\n",
    "        \n",
    "        return dp_set[m-1][n-1]"
   ]
  },
  {
   "cell_type": "markdown",
   "metadata": {},
   "source": [
    "343. 整数拆分\n",
    "\n",
    "本题思路并不容易想，一刷建议可以跳过。如果学有余力，可以看视频理解一波。\n",
    "\n",
    "https://programmercarl.com/0343.%E6%95%B4%E6%95%B0%E6%8B%86%E5%88%86.html   \n",
    "视频讲解：https://www.bilibili.com/video/BV1Mg411q7YJ"
   ]
  },
  {
   "cell_type": "code",
   "execution_count": 3,
   "metadata": {},
   "outputs": [],
   "source": [
    "class Solution(object):\n",
    "    def integerBreak(self, n):\n",
    "        \"\"\"\n",
    "        :type n: int\n",
    "        :rtype: int\n",
    "        \"\"\"\n",
    "        dp=[0]*(n+1)\n",
    "        dp[0]=0\n",
    "        dp[1]=0\n",
    "        dp[2]=1\n",
    "        i=n\n",
    "        for i in range (3,n+1):\n",
    "            for j in range(1,i):\n",
    "                dp[i]=max(dp[i],j*(i-j),j*dp[i-j])\n",
    "            \n",
    "        return dp[n]"
   ]
  }
 ],
 "metadata": {
  "kernelspec": {
   "display_name": "base",
   "language": "python",
   "name": "python3"
  },
  "language_info": {
   "codemirror_mode": {
    "name": "ipython",
    "version": 3
   },
   "file_extension": ".py",
   "mimetype": "text/x-python",
   "name": "python",
   "nbconvert_exporter": "python",
   "pygments_lexer": "ipython3",
   "version": "3.9.7"
  }
 },
 "nbformat": 4,
 "nbformat_minor": 2
}
