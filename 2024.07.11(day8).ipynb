{
 "cells": [
  {
   "cell_type": "markdown",
   "metadata": {},
   "source": [
    " 344.反转字符串 \n",
    "\n",
    "建议：本题是字符串基础题目，就是考察 reverse 函数的实现，明确一下平时刷题什么时候用库函数，什么时候不用库函数 \n",
    "\n",
    "问题：编写一个函数，其作用是将输入的字符串反转过来。输入字符串以字符数组 char[] 的形式给出。\n",
    "\n",
    "不要给另外的数组分配额外的空间，你必须原地修改输入数组、使用 O(1) 的额外空间解决这一问题。\n",
    "\n",
    "你可以假设数组中的所有字符都是 ASCII 码表中的可打印字符。\n",
    "\n",
    "示例 1：\n",
    "输入：[\"h\",\"e\",\"l\",\"l\",\"o\"]\n",
    "输出：[\"o\",\"l\",\"l\",\"e\",\"h\"]\n",
    "\n",
    "示例 2：\n",
    "输入：[\"H\",\"a\",\"n\",\"n\",\"a\",\"h\"]\n",
    "输出：[\"h\",\"a\",\"n\",\"n\",\"a\",\"H\"]\n",
    "\n",
    "思路：利用双指针思路，一个指针指第一个值，一个指针指最后一个值，然后相互调换位置，从而达到头尾数字相互对调的结果。同时需要判断循环截止的条件，为中间值，也就是n//2.\n",
    "\n",
    "题目链接/文章讲解/视频讲解：https://programmercarl.com/0344.%E5%8F%8D%E8%BD%AC%E5%AD%97%E7%AC%A6%E4%B8%B2.html  \n"
   ]
  },
  {
   "cell_type": "code",
   "execution_count": null,
   "metadata": {},
   "outputs": [],
   "source": [
    "class Solution(object):\n",
    "    def reverseString(self, s):\n",
    "        \"\"\"\n",
    "        :type s: List[str]\n",
    "        :rtype: None Do not return anything, modify s in-place instead.\n",
    "        \"\"\"\n",
    "        n = len(s)\n",
    "        for i in range (n//2):\n",
    "            s[i],s[n-i-1] = s[n-i-1],s[i]\n",
    "        return s"
   ]
  },
  {
   "cell_type": "markdown",
   "metadata": {},
   "source": [
    " 541. 反转字符串II\n",
    "\n",
    "建议：进阶版\n",
    "\n",
    "给定一个字符串 s 和一个整数 k，从字符串开头算起, 每计数至 2k 个字符，就反转这 2k 个字符中的前 k 个字符。\n",
    "\n",
    "如果剩余字符少于 k 个，则将剩余字符全部反转。\n",
    "\n",
    "如果剩余字符小于 2k 但大于或等于 k 个，则反转前 k 个字符，其余字符保持原样。\n",
    "\n",
    "示例:\n",
    "\n",
    "输入: s = \"abcdefg\", k = 2\n",
    "输出: \"bacdfeg\"\n",
    "\n",
    "思路：先创建一个函数，用来调换顺序，用while写更直观点，当left小于right就进行调换。这题解题思路重点是i需要2k单位来循环，这样就可以对每个2k内的字符串来进行调换，然后用index[i:i+k]来完成前k个字符的掉换。\n",
    "\n",
    "题目链接/文章讲解/视频讲解：https://programmercarl.com/0541.%E5%8F%8D%E8%BD%AC%E5%AD%97%E7%AC%A6%E4%B8%B2II.html  \n"
   ]
  },
  {
   "cell_type": "code",
   "execution_count": null,
   "metadata": {},
   "outputs": [],
   "source": [
    "class Solution(object):\n",
    "    def reverseStr(self, s, k):\n",
    "        \"\"\"\n",
    "        :type s: str\n",
    "        :type k: int\n",
    "        :rtype: str\n",
    "        \"\"\"\n",
    "        def rever(s):\n",
    "            left=0\n",
    "            right=len(s)-1\n",
    "            while left<right:\n",
    "                s[left],s[right]=s[right],s[left]\n",
    "                left+=1\n",
    "                right-=1\n",
    "            return s\n",
    "        list_str=list(s)\n",
    "        for i in range(0,len(list_str),2*k):\n",
    "            list_str[i:i+k]=rever(list_str[i:i+k])\n",
    "        \n",
    "        return ''.join(list_str)\n",
    "            "
   ]
  },
  {
   "cell_type": "markdown",
   "metadata": {},
   "source": [
    " 卡码网：54.替换数字 \n",
    "\n",
    "建议：对于线性数据结构，填充或者删除，后序处理会高效的多。\n",
    "\n",
    "给定一个字符串 s，它包含小写字母和数字字符，请编写一个函数，将字符串中的字母字符保持不变，而将每个数字字符替换为number。\n",
    "\n",
    "例如，对于输入字符串 \"a1b2c3\"，函数应该将其转换为 \"anumberbnumbercnumber\"。\n",
    "\n",
    "对于输入字符串 \"a5b\"，函数应该将其转换为 \"anumberb\"\n",
    "\n",
    "输入：一个字符串 s,s 仅包含小写字母和数字字符。\n",
    "\n",
    "输出：打印一个新的字符串，其中每个数字字符都被替换为了number\n",
    "\n",
    "样例输入：a1b2c3\n",
    "\n",
    "样例输出：anumberbnumbercnumber\n",
    "\n",
    "数据范围：1 <= s.length < 10000。\n",
    "\n",
    "\n",
    "思路：直接判断是不是数字，是的话直接改。\n",
    "\n",
    "\n",
    "题目链接/文章讲解：https://programmercarl.com/kama54.%E6%9B%BF%E6%8D%A2%E6%95%B0%E5%AD%97.html\n"
   ]
  },
  {
   "cell_type": "code",
   "execution_count": null,
   "metadata": {},
   "outputs": [],
   "source": [
    "class Solution:\n",
    "    def change(self, s):\n",
    "        lst = list(s) # Python里面的string也是不可改的，所以也是需要额外空间的。空间复杂度：O(n)。\n",
    "        for i in range(len(lst)):\n",
    "            if lst[i].isdigit():\n",
    "                lst[i] = \"number\"\n",
    "        return ''.join(lst)"
   ]
  }
 ],
 "metadata": {
  "kernelspec": {
   "display_name": "base",
   "language": "python",
   "name": "python3"
  },
  "language_info": {
   "name": "python",
   "version": "3.9.7"
  }
 },
 "nbformat": 4,
 "nbformat_minor": 2
}
