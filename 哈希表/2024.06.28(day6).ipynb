{
 "cells": [
  {
   "cell_type": "markdown",
   "metadata": {},
   "source": [
    " 454.四数相加II \n",
    "\n",
    "建议：本题是使用map巧妙解决的问题，哈希法可以提高程序执行效率，降低时间复杂度，当然使用哈希法会提高空间复杂度，但一般来说都是舍空间换时间，工业开发也是这样。\n",
    "\n",
    "思路：map在python里就是字典，因此需要将nums1和nums2先进行循环，然后再将两者元素的和储存在字典的key，出现次数统计为字典的value，从而不会遗漏。再对nums3和nums4进行循环，用0减去两者之和后，剩余的值如果为字典的key，那他们就能凑成4者和为0，并进行统计。\n",
    "\n",
    "题目链接/文章讲解/视频讲解：https://programmercarl.com/0454.%E5%9B%9B%E6%95%B0%E7%9B%B8%E5%8A%A0II.html"
   ]
  },
  {
   "cell_type": "code",
   "execution_count": null,
   "metadata": {},
   "outputs": [],
   "source": [
    "class Solution(object):\n",
    "    def fourSumCount(self, nums1, nums2, nums3, nums4):\n",
    "        \"\"\"\n",
    "        :type nums1: List[int]\n",
    "        :type nums2: List[int]\n",
    "        :type nums3: List[int]\n",
    "        :type nums4: List[int]\n",
    "        :rtype: int\n",
    "        \"\"\"\n",
    "        hashmap=dict()\n",
    "        for i in nums1:\n",
    "            for j in nums2:\n",
    "                two=i+j\n",
    "                if two in hashmap:\n",
    "                    hashmap[two]+=1\n",
    "                else:\n",
    "                    hashmap[two]=1\n",
    "        \n",
    "        count=0\n",
    "        for i in nums3:\n",
    "            for j in nums4:\n",
    "                remain=0-i-j\n",
    "                if remain in hashmap:\n",
    "                    count=count+hashmap[remain]\n",
    "        return count\n"
   ]
  },
  {
   "cell_type": "markdown",
   "metadata": {},
   "source": [
    " 383. 赎金信  \n",
    "\n",
    "建议：本题和242.有效的字母异位词是一个思路，算是拓展题\n",
    "\n",
    "思路：使用数组进行储存值，牢记ord可以体现字母的index，创建两个数组，分别储存字母出现过的次数，如果ransomNote里的每个元素的次数都小于magazine里的次数，那么ransomNote就是被magazine包含的，也就是return True。\n",
    "\n",
    "题目链接/文章讲解：https://programmercarl.com/0383.%E8%B5%8E%E9%87%91%E4%BF%A1.html"
   ]
  },
  {
   "cell_type": "code",
   "execution_count": null,
   "metadata": {},
   "outputs": [],
   "source": [
    "class Solution(object):\n",
    "    def canConstruct(self, ransomNote, magazine):\n",
    "        \"\"\"\n",
    "        :type ransomNote: str\n",
    "        :type magazine: str\n",
    "        :rtype: bool\n",
    "        \"\"\"\n",
    "        note_count=[0]*26\n",
    "        magazine_count=[0]*26\n",
    "        for i in ransomNote:\n",
    "            note_count[ord(i) - ord('a')]+=1\n",
    "        for j in magazine:\n",
    "            magazine_count[ord(j) - ord('a')]+=1\n",
    "        \n",
    "        return all(note_count[i]<=magazine_count[i] for i in range(26))"
   ]
  },
  {
   "cell_type": "markdown",
   "metadata": {},
   "source": [
    "15. 三数之和 \n",
    "\n",
    "建议：本题虽然和两数之和很像，也能用哈希法，但用哈希法会很麻烦，双指针法才是正解，可以先看视频理解一下 双指针法的思路，文章中讲解的，没问题 哈希法很麻烦。 \n",
    "\n",
    "思路：第一步是先把nums从小到大的排序，第二需要关注去重判断，需要是让nums[i]==nums[i-1],而不是nums[i]==nums[i+1]，使用双指针法，left为i+1的值，right为最右边的值，如果总和小于0，说明left值不够大，因此需要把left往右移，如果总和大于0，说明right值太大了，因此right要往左移。如果right和left出现重复值，需要多移动一位。\n",
    "\n",
    "题目链接/文章讲解/视频讲解：https://programmercarl.com/0015.%E4%B8%89%E6%95%B0%E4%B9%8B%E5%92%8C.html "
   ]
  },
  {
   "cell_type": "code",
   "execution_count": null,
   "metadata": {},
   "outputs": [],
   "source": [
    "class Solution(object):\n",
    "    def threeSum(self, nums):\n",
    "        \"\"\"\n",
    "        :type nums: List[int]\n",
    "        :rtype: List[List[int]]\n",
    "        \"\"\"\n",
    "        result=[]\n",
    "        nums.sort()\n",
    "        for i in range (len(nums)):\n",
    "            if nums[i]>0:\n",
    "                return result\n",
    "            if i > 0 and nums[i]==nums[i-1]:\n",
    "                continue\n",
    "            right=len(nums)-1\n",
    "            left=i+1\n",
    "            while left<right:\n",
    "                total=nums[i]+nums[left]+nums[right]\n",
    "\n",
    "                if total<0:\n",
    "                    left=left+1\n",
    "                elif total>0:\n",
    "                    right=right-1\n",
    "                else:\n",
    "                    result.append([nums[i],nums[left],nums[right]])\n",
    "\n",
    "                    while right > left and nums[right] == nums[right - 1]:\n",
    "                        right -= 1\n",
    "                    while right > left and nums[left] == nums[left + 1]:\n",
    "                        left += 1\n",
    "                        \n",
    "                    right -= 1\n",
    "                    left += 1\n",
    "                    \n",
    "        return result"
   ]
  },
  {
   "cell_type": "markdown",
   "metadata": {},
   "source": [
    "18. 四数之和  \n",
    "\n",
    "建议：要比较一下，本题和 454.四数相加II的区别，为什么454.四数相加II会简单很多，这个想明白了，对本题理解就深刻了。 本题思路整体和三数之和一样的，都是双指针，但写的时候有很多小细节，需要注意，建议先看视频。 \n",
    "\n",
    "思路：与三数之和思路类似，但是多一个j循环，同时紧记需要判断的四个指针的重复性。i和j是判断与前一个的，left和right是常规判断。\n",
    "\n",
    "题目链接/文章讲解/视频讲解：https://programmercarl.com/0018.%E5%9B%9B%E6%95%B0%E4%B9%8B%E5%92%8C.html "
   ]
  },
  {
   "cell_type": "code",
   "execution_count": null,
   "metadata": {},
   "outputs": [],
   "source": [
    "class Solution(object):\n",
    "    def fourSum(self, nums, target):\n",
    "        \"\"\"\n",
    "        :type nums: List[int]\n",
    "        :type target: int\n",
    "        :rtype: List[List[int]]\n",
    "        \"\"\"\n",
    "        result=[]\n",
    "        nums.sort()\n",
    "        for i in range(len(nums)):\n",
    "            if nums[i]>target and nums[i]>0 and target>0:\n",
    "                break\n",
    "            if i >0 and nums[i]==nums[i-1]:\n",
    "                continue\n",
    "            for j in range(i+1,len(nums)):\n",
    "                if nums[i]+nums[j]>target and target>0:\n",
    "                    break\n",
    "                if j>i+1 and nums[j]==nums[j-1]:\n",
    "                    continue\n",
    "                left=j+1\n",
    "                right=len(nums)-1\n",
    "                while left<right:\n",
    "                    total=nums[i]+nums[j]+nums[left]+nums[right]\n",
    "                    if total==target:\n",
    "                        result.append([nums[i],nums[j],nums[left],nums[right]])\n",
    "                        while left<right and nums[left]==nums[left+1]:\n",
    "                            left=left+1\n",
    "                        while left<right and nums[right]==nums[right-1]:\n",
    "                            right=right-1\n",
    "                        left=left+1\n",
    "                        right=right-1\n",
    "                    elif total<target:\n",
    "                        left=left+1\n",
    "                    else:\n",
    "                        right=right-1\n",
    "        return result      "
   ]
  }
 ],
 "metadata": {
  "language_info": {
   "name": "python"
  }
 },
 "nbformat": 4,
 "nbformat_minor": 2
}
